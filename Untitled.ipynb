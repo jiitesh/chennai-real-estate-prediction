{
 "cells": [
  {
   "cell_type": "code",
   "execution_count": 57,
   "id": "e33577ff",
   "metadata": {},
   "outputs": [],
   "source": [
    "import pandas as pd\n",
    "import numpy as np\n",
    "from matplotlib import pyplot as plt\n",
    "%matplotlib inline\n",
    "import matplotlib\n",
    "matplotlib.rcParams[\"figure.figsize\"] = (20,10)"
   ]
  },
  {
   "cell_type": "code",
   "execution_count": 58,
   "id": "0160efbc",
   "metadata": {},
   "outputs": [
    {
     "data": {
      "text/html": [
       "<div>\n",
       "<style scoped>\n",
       "    .dataframe tbody tr th:only-of-type {\n",
       "        vertical-align: middle;\n",
       "    }\n",
       "\n",
       "    .dataframe tbody tr th {\n",
       "        vertical-align: top;\n",
       "    }\n",
       "\n",
       "    .dataframe thead th {\n",
       "        text-align: right;\n",
       "    }\n",
       "</style>\n",
       "<table border=\"1\" class=\"dataframe\">\n",
       "  <thead>\n",
       "    <tr style=\"text-align: right;\">\n",
       "      <th></th>\n",
       "      <th>price</th>\n",
       "      <th>area</th>\n",
       "      <th>status</th>\n",
       "      <th>bhk</th>\n",
       "      <th>bathroom</th>\n",
       "      <th>age</th>\n",
       "      <th>location</th>\n",
       "      <th>builder</th>\n",
       "    </tr>\n",
       "  </thead>\n",
       "  <tbody>\n",
       "    <tr>\n",
       "      <th>0</th>\n",
       "      <td>37.49</td>\n",
       "      <td>872</td>\n",
       "      <td>Ready to move</td>\n",
       "      <td>2</td>\n",
       "      <td>NaN</td>\n",
       "      <td>1.0</td>\n",
       "      <td>Sembakkam</td>\n",
       "      <td>MP Developers</td>\n",
       "    </tr>\n",
       "    <tr>\n",
       "      <th>1</th>\n",
       "      <td>93.54</td>\n",
       "      <td>1346</td>\n",
       "      <td>Under Construction</td>\n",
       "      <td>3</td>\n",
       "      <td>2.0</td>\n",
       "      <td>NaN</td>\n",
       "      <td>Selaiyur</td>\n",
       "      <td>DAC Promoters</td>\n",
       "    </tr>\n",
       "    <tr>\n",
       "      <th>2</th>\n",
       "      <td>151.00</td>\n",
       "      <td>2225</td>\n",
       "      <td>Under Construction</td>\n",
       "      <td>3</td>\n",
       "      <td>NaN</td>\n",
       "      <td>0.0</td>\n",
       "      <td>Mogappair</td>\n",
       "      <td>Casagrand Builder Private Limited</td>\n",
       "    </tr>\n",
       "    <tr>\n",
       "      <th>3</th>\n",
       "      <td>49.00</td>\n",
       "      <td>1028</td>\n",
       "      <td>Ready to move</td>\n",
       "      <td>2</td>\n",
       "      <td>2.0</td>\n",
       "      <td>3.0</td>\n",
       "      <td>Ambattur</td>\n",
       "      <td>Dugar Housing Builders</td>\n",
       "    </tr>\n",
       "    <tr>\n",
       "      <th>4</th>\n",
       "      <td>42.28</td>\n",
       "      <td>588</td>\n",
       "      <td>Under Construction</td>\n",
       "      <td>2</td>\n",
       "      <td>1.0</td>\n",
       "      <td>0.0</td>\n",
       "      <td>Pallavaram</td>\n",
       "      <td>Radiance Realty Developers India Ltd</td>\n",
       "    </tr>\n",
       "  </tbody>\n",
       "</table>\n",
       "</div>"
      ],
      "text/plain": [
       "    price  area              status  bhk  bathroom  age    location  \\\n",
       "0   37.49   872       Ready to move    2       NaN  1.0   Sembakkam   \n",
       "1   93.54  1346  Under Construction    3       2.0  NaN    Selaiyur   \n",
       "2  151.00  2225  Under Construction    3       NaN  0.0   Mogappair   \n",
       "3   49.00  1028       Ready to move    2       2.0  3.0    Ambattur   \n",
       "4   42.28   588  Under Construction    2       1.0  0.0  Pallavaram   \n",
       "\n",
       "                                builder  \n",
       "0                         MP Developers  \n",
       "1                         DAC Promoters  \n",
       "2     Casagrand Builder Private Limited  \n",
       "3                Dugar Housing Builders  \n",
       "4  Radiance Realty Developers India Ltd  "
      ]
     },
     "execution_count": 58,
     "metadata": {},
     "output_type": "execute_result"
    }
   ],
   "source": [
    "df1=pd.read_csv(\"chennai_property_price.csv\")\n",
    "df1.head()"
   ]
  },
  {
   "cell_type": "code",
   "execution_count": 59,
   "id": "f35780be",
   "metadata": {},
   "outputs": [
    {
     "ename": "TypeError",
     "evalue": "'tuple' object is not callable",
     "output_type": "error",
     "traceback": [
      "\u001b[1;31m---------------------------------------------------------------------------\u001b[0m",
      "\u001b[1;31mTypeError\u001b[0m                                 Traceback (most recent call last)",
      "\u001b[1;32m~\\AppData\\Local\\Temp/ipykernel_16352/1920730269.py\u001b[0m in \u001b[0;36m<module>\u001b[1;34m\u001b[0m\n\u001b[1;32m----> 1\u001b[1;33m \u001b[0mdf1\u001b[0m\u001b[1;33m.\u001b[0m\u001b[0mshape\u001b[0m\u001b[1;33m(\u001b[0m\u001b[1;33m)\u001b[0m\u001b[1;33m\u001b[0m\u001b[1;33m\u001b[0m\u001b[0m\n\u001b[0m",
      "\u001b[1;31mTypeError\u001b[0m: 'tuple' object is not callable"
     ]
    }
   ],
   "source": [
    "df1.shape()"
   ]
  },
  {
   "cell_type": "code",
   "execution_count": 60,
   "id": "b1cd70e4",
   "metadata": {},
   "outputs": [
    {
     "data": {
      "text/plain": [
       "location\n",
       "Adambakam         8\n",
       "Adyar            11\n",
       "Agaramthen        7\n",
       "Alandur           5\n",
       "Alwarpet         11\n",
       "                 ..\n",
       "Virugambakkam     8\n",
       "Washermanpet      1\n",
       "West Mambalam    47\n",
       "West Tambaram     7\n",
       "tambaram west    14\n",
       "Name: location, Length: 178, dtype: int64"
      ]
     },
     "execution_count": 60,
     "metadata": {},
     "output_type": "execute_result"
    }
   ],
   "source": [
    "df1.groupby('location')['location'].agg('count')"
   ]
  },
  {
   "cell_type": "code",
   "execution_count": 61,
   "id": "0e7e8d16",
   "metadata": {},
   "outputs": [
    {
     "data": {
      "text/html": [
       "<div>\n",
       "<style scoped>\n",
       "    .dataframe tbody tr th:only-of-type {\n",
       "        vertical-align: middle;\n",
       "    }\n",
       "\n",
       "    .dataframe tbody tr th {\n",
       "        vertical-align: top;\n",
       "    }\n",
       "\n",
       "    .dataframe thead th {\n",
       "        text-align: right;\n",
       "    }\n",
       "</style>\n",
       "<table border=\"1\" class=\"dataframe\">\n",
       "  <thead>\n",
       "    <tr style=\"text-align: right;\">\n",
       "      <th></th>\n",
       "      <th>price</th>\n",
       "      <th>area</th>\n",
       "      <th>bhk</th>\n",
       "      <th>bathroom</th>\n",
       "      <th>location</th>\n",
       "    </tr>\n",
       "  </thead>\n",
       "  <tbody>\n",
       "    <tr>\n",
       "      <th>0</th>\n",
       "      <td>37.49</td>\n",
       "      <td>872</td>\n",
       "      <td>2</td>\n",
       "      <td>NaN</td>\n",
       "      <td>Sembakkam</td>\n",
       "    </tr>\n",
       "    <tr>\n",
       "      <th>1</th>\n",
       "      <td>93.54</td>\n",
       "      <td>1346</td>\n",
       "      <td>3</td>\n",
       "      <td>2.0</td>\n",
       "      <td>Selaiyur</td>\n",
       "    </tr>\n",
       "    <tr>\n",
       "      <th>2</th>\n",
       "      <td>151.00</td>\n",
       "      <td>2225</td>\n",
       "      <td>3</td>\n",
       "      <td>NaN</td>\n",
       "      <td>Mogappair</td>\n",
       "    </tr>\n",
       "    <tr>\n",
       "      <th>3</th>\n",
       "      <td>49.00</td>\n",
       "      <td>1028</td>\n",
       "      <td>2</td>\n",
       "      <td>2.0</td>\n",
       "      <td>Ambattur</td>\n",
       "    </tr>\n",
       "    <tr>\n",
       "      <th>4</th>\n",
       "      <td>42.28</td>\n",
       "      <td>588</td>\n",
       "      <td>2</td>\n",
       "      <td>1.0</td>\n",
       "      <td>Pallavaram</td>\n",
       "    </tr>\n",
       "  </tbody>\n",
       "</table>\n",
       "</div>"
      ],
      "text/plain": [
       "    price  area  bhk  bathroom    location\n",
       "0   37.49   872    2       NaN   Sembakkam\n",
       "1   93.54  1346    3       2.0    Selaiyur\n",
       "2  151.00  2225    3       NaN   Mogappair\n",
       "3   49.00  1028    2       2.0    Ambattur\n",
       "4   42.28   588    2       1.0  Pallavaram"
      ]
     },
     "execution_count": 61,
     "metadata": {},
     "output_type": "execute_result"
    }
   ],
   "source": [
    "df2=df1.drop(['status','builder','age'],axis='columns')\n",
    "df2.head()"
   ]
  },
  {
   "cell_type": "code",
   "execution_count": 62,
   "id": "fba01bc8",
   "metadata": {},
   "outputs": [
    {
     "data": {
      "text/plain": [
       "price          0\n",
       "area           0\n",
       "bhk            0\n",
       "bathroom    1217\n",
       "location       0\n",
       "dtype: int64"
      ]
     },
     "execution_count": 62,
     "metadata": {},
     "output_type": "execute_result"
    }
   ],
   "source": [
    "df2.isnull().sum()"
   ]
  },
  {
   "cell_type": "code",
   "execution_count": 63,
   "id": "28bd670d",
   "metadata": {},
   "outputs": [
    {
     "name": "stderr",
     "output_type": "stream",
     "text": [
      "C:\\Users\\jiite\\AppData\\Local\\Temp/ipykernel_16352/2322390511.py:1: FutureWarning: Dropping of nuisance columns in DataFrame reductions (with 'numeric_only=None') is deprecated; in a future version this will raise TypeError.  Select only valid columns before calling the reduction.\n",
      "  df3=df3.fillna(df3.median())\n"
     ]
    }
   ],
   "source": [
    "df3=df3.fillna(df3.median())"
   ]
  },
  {
   "cell_type": "code",
   "execution_count": 64,
   "id": "adf3b430",
   "metadata": {},
   "outputs": [
    {
     "data": {
      "text/plain": [
       "price       0\n",
       "area        0\n",
       "bhk         0\n",
       "bathroom    0\n",
       "location    0\n",
       "dtype: int64"
      ]
     },
     "execution_count": 64,
     "metadata": {},
     "output_type": "execute_result"
    }
   ],
   "source": [
    "df3.isnull().sum()"
   ]
  },
  {
   "cell_type": "code",
   "execution_count": 65,
   "id": "9ed7175e",
   "metadata": {},
   "outputs": [
    {
     "data": {
      "text/plain": [
       "array([2, 3, 4, 1, 5, 6, 8], dtype=int64)"
      ]
     },
     "execution_count": 65,
     "metadata": {},
     "output_type": "execute_result"
    }
   ],
   "source": [
    "df3['bhk'].unique()"
   ]
  },
  {
   "cell_type": "code",
   "execution_count": 66,
   "id": "8143823c",
   "metadata": {},
   "outputs": [
    {
     "data": {
      "text/html": [
       "<div>\n",
       "<style scoped>\n",
       "    .dataframe tbody tr th:only-of-type {\n",
       "        vertical-align: middle;\n",
       "    }\n",
       "\n",
       "    .dataframe tbody tr th {\n",
       "        vertical-align: top;\n",
       "    }\n",
       "\n",
       "    .dataframe thead th {\n",
       "        text-align: right;\n",
       "    }\n",
       "</style>\n",
       "<table border=\"1\" class=\"dataframe\">\n",
       "  <thead>\n",
       "    <tr style=\"text-align: right;\">\n",
       "      <th></th>\n",
       "      <th>price</th>\n",
       "      <th>area</th>\n",
       "      <th>bhk</th>\n",
       "      <th>bathroom</th>\n",
       "      <th>location</th>\n",
       "    </tr>\n",
       "  </thead>\n",
       "  <tbody>\n",
       "    <tr>\n",
       "      <th>0</th>\n",
       "      <td>37.49</td>\n",
       "      <td>872</td>\n",
       "      <td>2</td>\n",
       "      <td>2.0</td>\n",
       "      <td>Sembakkam</td>\n",
       "    </tr>\n",
       "    <tr>\n",
       "      <th>1</th>\n",
       "      <td>93.54</td>\n",
       "      <td>1346</td>\n",
       "      <td>3</td>\n",
       "      <td>2.0</td>\n",
       "      <td>Selaiyur</td>\n",
       "    </tr>\n",
       "    <tr>\n",
       "      <th>2</th>\n",
       "      <td>151.00</td>\n",
       "      <td>2225</td>\n",
       "      <td>3</td>\n",
       "      <td>2.0</td>\n",
       "      <td>Mogappair</td>\n",
       "    </tr>\n",
       "    <tr>\n",
       "      <th>3</th>\n",
       "      <td>49.00</td>\n",
       "      <td>1028</td>\n",
       "      <td>2</td>\n",
       "      <td>2.0</td>\n",
       "      <td>Ambattur</td>\n",
       "    </tr>\n",
       "    <tr>\n",
       "      <th>4</th>\n",
       "      <td>42.28</td>\n",
       "      <td>588</td>\n",
       "      <td>2</td>\n",
       "      <td>1.0</td>\n",
       "      <td>Pallavaram</td>\n",
       "    </tr>\n",
       "    <tr>\n",
       "      <th>...</th>\n",
       "      <td>...</td>\n",
       "      <td>...</td>\n",
       "      <td>...</td>\n",
       "      <td>...</td>\n",
       "      <td>...</td>\n",
       "    </tr>\n",
       "    <tr>\n",
       "      <th>2615</th>\n",
       "      <td>27.50</td>\n",
       "      <td>750</td>\n",
       "      <td>2</td>\n",
       "      <td>2.0</td>\n",
       "      <td>Veppampattu</td>\n",
       "    </tr>\n",
       "    <tr>\n",
       "      <th>2616</th>\n",
       "      <td>27.50</td>\n",
       "      <td>750</td>\n",
       "      <td>2</td>\n",
       "      <td>2.0</td>\n",
       "      <td>Veppampattu</td>\n",
       "    </tr>\n",
       "    <tr>\n",
       "      <th>2617</th>\n",
       "      <td>30.00</td>\n",
       "      <td>800</td>\n",
       "      <td>2</td>\n",
       "      <td>2.0</td>\n",
       "      <td>Veppampattu</td>\n",
       "    </tr>\n",
       "    <tr>\n",
       "      <th>2618</th>\n",
       "      <td>31.50</td>\n",
       "      <td>850</td>\n",
       "      <td>2</td>\n",
       "      <td>2.0</td>\n",
       "      <td>Veppampattu</td>\n",
       "    </tr>\n",
       "    <tr>\n",
       "      <th>2619</th>\n",
       "      <td>34.00</td>\n",
       "      <td>900</td>\n",
       "      <td>2</td>\n",
       "      <td>2.0</td>\n",
       "      <td>Veppampattu</td>\n",
       "    </tr>\n",
       "  </tbody>\n",
       "</table>\n",
       "<p>2582 rows × 5 columns</p>\n",
       "</div>"
      ],
      "text/plain": [
       "       price  area  bhk  bathroom     location\n",
       "0      37.49   872    2       2.0    Sembakkam\n",
       "1      93.54  1346    3       2.0     Selaiyur\n",
       "2     151.00  2225    3       2.0    Mogappair\n",
       "3      49.00  1028    2       2.0     Ambattur\n",
       "4      42.28   588    2       1.0   Pallavaram\n",
       "...      ...   ...  ...       ...          ...\n",
       "2615   27.50   750    2       2.0  Veppampattu\n",
       "2616   27.50   750    2       2.0  Veppampattu\n",
       "2617   30.00   800    2       2.0  Veppampattu\n",
       "2618   31.50   850    2       2.0  Veppampattu\n",
       "2619   34.00   900    2       2.0  Veppampattu\n",
       "\n",
       "[2582 rows x 5 columns]"
      ]
     },
     "execution_count": 66,
     "metadata": {},
     "output_type": "execute_result"
    }
   ],
   "source": [
    "df3[df3.price>20]"
   ]
  },
  {
   "cell_type": "code",
   "execution_count": 67,
   "id": "a9e38e05",
   "metadata": {},
   "outputs": [
    {
     "data": {
      "text/plain": [
       "array([ 872, 1346, 2225, ..., 1127, 1131,  898], dtype=int64)"
      ]
     },
     "execution_count": 67,
     "metadata": {},
     "output_type": "execute_result"
    }
   ],
   "source": [
    "df3.area.unique()"
   ]
  },
  {
   "cell_type": "code",
   "execution_count": 68,
   "id": "68b6122e",
   "metadata": {},
   "outputs": [],
   "source": [
    "def is_float(x):\n",
    "    try:\n",
    "        float(x)\n",
    "    except:\n",
    "        return False\n",
    "    return True"
   ]
  },
  {
   "cell_type": "code",
   "execution_count": 69,
   "id": "86d935cd",
   "metadata": {},
   "outputs": [
    {
     "data": {
      "text/html": [
       "<div>\n",
       "<style scoped>\n",
       "    .dataframe tbody tr th:only-of-type {\n",
       "        vertical-align: middle;\n",
       "    }\n",
       "\n",
       "    .dataframe tbody tr th {\n",
       "        vertical-align: top;\n",
       "    }\n",
       "\n",
       "    .dataframe thead th {\n",
       "        text-align: right;\n",
       "    }\n",
       "</style>\n",
       "<table border=\"1\" class=\"dataframe\">\n",
       "  <thead>\n",
       "    <tr style=\"text-align: right;\">\n",
       "      <th></th>\n",
       "      <th>price</th>\n",
       "      <th>area</th>\n",
       "      <th>bhk</th>\n",
       "      <th>bathroom</th>\n",
       "      <th>location</th>\n",
       "    </tr>\n",
       "  </thead>\n",
       "  <tbody>\n",
       "  </tbody>\n",
       "</table>\n",
       "</div>"
      ],
      "text/plain": [
       "Empty DataFrame\n",
       "Columns: [price, area, bhk, bathroom, location]\n",
       "Index: []"
      ]
     },
     "execution_count": 69,
     "metadata": {},
     "output_type": "execute_result"
    }
   ],
   "source": [
    "df3[~df3['area'].apply(is_float)].head()"
   ]
  },
  {
   "cell_type": "code",
   "execution_count": 70,
   "id": "c6191bf2",
   "metadata": {},
   "outputs": [],
   "source": [
    "def convert_sqft_to_num(x):\n",
    "    tokens=x.split('-')\n",
    "    if len(tokens) == 2:\n",
    "        return (float(tokens[0])+float(tokens[1]))/2\n",
    "    try:\n",
    "        return float(x)\n",
    "    except:\n",
    "        return None"
   ]
  },
  {
   "cell_type": "code",
   "execution_count": 71,
   "id": "a7d34339",
   "metadata": {},
   "outputs": [
    {
     "data": {
      "text/plain": [
       "2174.5"
      ]
     },
     "execution_count": 71,
     "metadata": {},
     "output_type": "execute_result"
    }
   ],
   "source": [
    "convert_sqft_to_num('2160-2189')"
   ]
  },
  {
   "cell_type": "code",
   "execution_count": 72,
   "id": "62b12550",
   "metadata": {},
   "outputs": [
    {
     "data": {
      "text/html": [
       "<div>\n",
       "<style scoped>\n",
       "    .dataframe tbody tr th:only-of-type {\n",
       "        vertical-align: middle;\n",
       "    }\n",
       "\n",
       "    .dataframe tbody tr th {\n",
       "        vertical-align: top;\n",
       "    }\n",
       "\n",
       "    .dataframe thead th {\n",
       "        text-align: right;\n",
       "    }\n",
       "</style>\n",
       "<table border=\"1\" class=\"dataframe\">\n",
       "  <thead>\n",
       "    <tr style=\"text-align: right;\">\n",
       "      <th></th>\n",
       "      <th>price</th>\n",
       "      <th>area</th>\n",
       "      <th>bhk</th>\n",
       "      <th>bathroom</th>\n",
       "      <th>location</th>\n",
       "    </tr>\n",
       "  </thead>\n",
       "  <tbody>\n",
       "    <tr>\n",
       "      <th>0</th>\n",
       "      <td>37.49</td>\n",
       "      <td>True</td>\n",
       "      <td>2</td>\n",
       "      <td>2.0</td>\n",
       "      <td>Sembakkam</td>\n",
       "    </tr>\n",
       "    <tr>\n",
       "      <th>1</th>\n",
       "      <td>93.54</td>\n",
       "      <td>True</td>\n",
       "      <td>3</td>\n",
       "      <td>2.0</td>\n",
       "      <td>Selaiyur</td>\n",
       "    </tr>\n",
       "    <tr>\n",
       "      <th>2</th>\n",
       "      <td>151.00</td>\n",
       "      <td>True</td>\n",
       "      <td>3</td>\n",
       "      <td>2.0</td>\n",
       "      <td>Mogappair</td>\n",
       "    </tr>\n",
       "    <tr>\n",
       "      <th>3</th>\n",
       "      <td>49.00</td>\n",
       "      <td>True</td>\n",
       "      <td>2</td>\n",
       "      <td>2.0</td>\n",
       "      <td>Ambattur</td>\n",
       "    </tr>\n",
       "    <tr>\n",
       "      <th>4</th>\n",
       "      <td>42.28</td>\n",
       "      <td>True</td>\n",
       "      <td>2</td>\n",
       "      <td>1.0</td>\n",
       "      <td>Pallavaram</td>\n",
       "    </tr>\n",
       "  </tbody>\n",
       "</table>\n",
       "</div>"
      ],
      "text/plain": [
       "    price  area  bhk  bathroom    location\n",
       "0   37.49  True    2       2.0   Sembakkam\n",
       "1   93.54  True    3       2.0    Selaiyur\n",
       "2  151.00  True    3       2.0   Mogappair\n",
       "3   49.00  True    2       2.0    Ambattur\n",
       "4   42.28  True    2       1.0  Pallavaram"
      ]
     },
     "execution_count": 72,
     "metadata": {},
     "output_type": "execute_result"
    }
   ],
   "source": [
    "df4=df3.copy()\n",
    "df4['area']=df4['area'].apply(is_float)\n",
    "df4.head()"
   ]
  },
  {
   "cell_type": "code",
   "execution_count": 73,
   "id": "c30e0b27",
   "metadata": {},
   "outputs": [
    {
     "data": {
      "text/html": [
       "<div>\n",
       "<style scoped>\n",
       "    .dataframe tbody tr th:only-of-type {\n",
       "        vertical-align: middle;\n",
       "    }\n",
       "\n",
       "    .dataframe tbody tr th {\n",
       "        vertical-align: top;\n",
       "    }\n",
       "\n",
       "    .dataframe thead th {\n",
       "        text-align: right;\n",
       "    }\n",
       "</style>\n",
       "<table border=\"1\" class=\"dataframe\">\n",
       "  <thead>\n",
       "    <tr style=\"text-align: right;\">\n",
       "      <th></th>\n",
       "      <th>price</th>\n",
       "      <th>area</th>\n",
       "      <th>bhk</th>\n",
       "      <th>bathroom</th>\n",
       "      <th>location</th>\n",
       "      <th>price_per_sqft</th>\n",
       "    </tr>\n",
       "  </thead>\n",
       "  <tbody>\n",
       "    <tr>\n",
       "      <th>0</th>\n",
       "      <td>37.49</td>\n",
       "      <td>872</td>\n",
       "      <td>2</td>\n",
       "      <td>2.0</td>\n",
       "      <td>Sembakkam</td>\n",
       "      <td>4299.311927</td>\n",
       "    </tr>\n",
       "    <tr>\n",
       "      <th>1</th>\n",
       "      <td>93.54</td>\n",
       "      <td>1346</td>\n",
       "      <td>3</td>\n",
       "      <td>2.0</td>\n",
       "      <td>Selaiyur</td>\n",
       "      <td>6949.479941</td>\n",
       "    </tr>\n",
       "    <tr>\n",
       "      <th>2</th>\n",
       "      <td>151.00</td>\n",
       "      <td>2225</td>\n",
       "      <td>3</td>\n",
       "      <td>2.0</td>\n",
       "      <td>Mogappair</td>\n",
       "      <td>6786.516854</td>\n",
       "    </tr>\n",
       "    <tr>\n",
       "      <th>3</th>\n",
       "      <td>49.00</td>\n",
       "      <td>1028</td>\n",
       "      <td>2</td>\n",
       "      <td>2.0</td>\n",
       "      <td>Ambattur</td>\n",
       "      <td>4766.536965</td>\n",
       "    </tr>\n",
       "    <tr>\n",
       "      <th>4</th>\n",
       "      <td>42.28</td>\n",
       "      <td>588</td>\n",
       "      <td>2</td>\n",
       "      <td>1.0</td>\n",
       "      <td>Pallavaram</td>\n",
       "      <td>7190.476190</td>\n",
       "    </tr>\n",
       "  </tbody>\n",
       "</table>\n",
       "</div>"
      ],
      "text/plain": [
       "    price  area  bhk  bathroom    location  price_per_sqft\n",
       "0   37.49   872    2       2.0   Sembakkam     4299.311927\n",
       "1   93.54  1346    3       2.0    Selaiyur     6949.479941\n",
       "2  151.00  2225    3       2.0   Mogappair     6786.516854\n",
       "3   49.00  1028    2       2.0    Ambattur     4766.536965\n",
       "4   42.28   588    2       1.0  Pallavaram     7190.476190"
      ]
     },
     "execution_count": 73,
     "metadata": {},
     "output_type": "execute_result"
    }
   ],
   "source": [
    "df5=df3.copy()\n",
    "df5['price_per_sqft']=df5['price']*100000/df5['area']\n",
    "df5.head()"
   ]
  },
  {
   "cell_type": "code",
   "execution_count": 74,
   "id": "eccd81bb",
   "metadata": {},
   "outputs": [
    {
     "data": {
      "text/plain": [
       "178"
      ]
     },
     "execution_count": 74,
     "metadata": {},
     "output_type": "execute_result"
    }
   ],
   "source": [
    "len(df5.location.unique())"
   ]
  },
  {
   "cell_type": "code",
   "execution_count": 78,
   "id": "92cdf726",
   "metadata": {},
   "outputs": [
    {
     "data": {
      "text/plain": [
       "location\n",
       "Veppampattu                       149\n",
       "Pammal                            139\n",
       "Medavakkam                        111\n",
       "Sholinganallur                     99\n",
       "Perungudi                          88\n",
       "                                 ... \n",
       "Red Hills                           1\n",
       "Padapai                             1\n",
       "Oragadam Village Ambattur Talu      1\n",
       "Thiruvidandhai                      1\n",
       "Padi                                1\n",
       "Name: location, Length: 178, dtype: int64"
      ]
     },
     "execution_count": 78,
     "metadata": {},
     "output_type": "execute_result"
    }
   ],
   "source": [
    "df5.location=df5.location.apply(lambda x: x.strip())\n",
    "\n",
    "\n",
    "location_stats=df5.groupby('location')['location'].agg('count').sort_values(ascending=False)\n",
    "location_stats"
   ]
  }
 ],
 "metadata": {
  "kernelspec": {
   "display_name": "Python 3 (ipykernel)",
   "language": "python",
   "name": "python3"
  },
  "language_info": {
   "codemirror_mode": {
    "name": "ipython",
    "version": 3
   },
   "file_extension": ".py",
   "mimetype": "text/x-python",
   "name": "python",
   "nbconvert_exporter": "python",
   "pygments_lexer": "ipython3",
   "version": "3.9.7"
  }
 },
 "nbformat": 4,
 "nbformat_minor": 5
}
